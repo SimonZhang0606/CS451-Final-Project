{
 "cells": [
  {
   "cell_type": "code",
   "execution_count": 2,
   "metadata": {},
   "outputs": [],
   "source": [
    "import requests\n",
    "from random import sample\n",
    "from datetime import datetime, timedelta\n",
    "import json\n",
    "import pandas as pd\n",
    "from tqdm import tqdm"
   ]
  },
  {
   "cell_type": "code",
   "execution_count": 3,
   "metadata": {},
   "outputs": [],
   "source": [
    "def readBlock(hash, printouts=False):\n",
    "    # api-endpoint\n",
    "    # URL = \"https://blockchain.info/rawblock/000000000019d6689c085ae165831e934ff763ae46a2a6c172b3f1b60a8ce26f?format=hex\"\n",
    "    # URL = \"https://blockchain.info/rawblock/00000000000000001e8d6829a8a21adc5d38d0a473b144b6765798e61f98bd1d?format=hex\"\n",
    "    URL = \"https://blockchain.info/rawblock/\" + hash + \"?format=hex\"\n",
    "\n",
    "    # sending get request and saving the response as response object\n",
    "    r = requests.get(url = URL) #, params = PARAMS)\n",
    "    \n",
    "    # print(r.content)\n",
    "    if printouts: print('text: ' + r.text)\n",
    "    if printouts: print('encoding: ' + r.encoding)\n",
    "    # print('type: ' + type(r.text))\n",
    "\n",
    "    blockHex = r.text\n",
    "    # head = r.text[:size2]\n",
    "    global curr\n",
    "    curr = 0\n",
    "\n",
    "    def read(size):\n",
    "        global curr\n",
    "        prev = curr\n",
    "        curr += size * 2\n",
    "    #     if size == 1:\n",
    "    #         print(\"prev: \", prev)\n",
    "    #         print(\"curr: \", curr)\n",
    "    #         print(\"head sect: \", blockHex[prev:curr])\n",
    "        return blockHex[prev:curr]\n",
    "\n",
    "    def readInt(size=4):\n",
    "        tempArr = bytearray(bytes.fromhex(read(size)))\n",
    "    #     if size == 1:\n",
    "    #         print(\"tempArr: \", tempArr)\n",
    "        return int.from_bytes(tempArr, \"little\")\n",
    "\n",
    "    def readHash(size=32):\n",
    "        tempArr = bytearray(bytes.fromhex(read(32)))\n",
    "        tempArr.reverse()\n",
    "        return tempArr\n",
    "\n",
    "    def readVarInt():\n",
    "        size = readInt(1)\n",
    "    #     print(\"readvarint size: \", size)\n",
    "        if size < 253:\n",
    "            return size\n",
    "        elif size == 253:\n",
    "            return readInt(2)\n",
    "        elif size == 254:\n",
    "            return readInt(4)\n",
    "        elif size == 255:\n",
    "            return readInt(8)\n",
    "        return -1\n",
    "\n",
    "    def readTxInput():\n",
    "        tx_input = {}\n",
    "        tx_input[\"prev_out\"] = readHash().hex()\n",
    "        tx_input[\"txOutId\"] = readInt(4)\n",
    "        tx_input[\"scriptLen\"] = readVarInt()\n",
    "        tx_input[\"script\"] = read(tx_input[\"scriptLen\"])\n",
    "        tx_input[\"sequence\"] = readInt(4)\n",
    "        return tx_input\n",
    "\n",
    "    def readTxInputs(vin_sz):\n",
    "        outputs = []\n",
    "        for i in range(0, vin_sz):\n",
    "            outputs.append(readTxInput())\n",
    "        return outputs\n",
    "        \n",
    "    def readTxOutput():\n",
    "        tx_output = {}\n",
    "        tx_output[\"value\"] = readInt(8)\n",
    "        tx_output[\"scriptLen\"] = readVarInt()\n",
    "        tx_output[\"pubkey\"] = read(tx_output[\"scriptLen\"])\n",
    "        return tx_output\n",
    "        \n",
    "    def readTxOutputs(vout_sz):\n",
    "        outputs = []\n",
    "        for i in range(0, vout_sz):\n",
    "            outputs.append(readTxOutput())\n",
    "        return outputs\n",
    "        \n",
    "    def readTx(n_tx):\n",
    "        outputs = []\n",
    "        for i in range(0, n_tx):\n",
    "            tx = {}\n",
    "            tx[\"ver\"] = readInt()\n",
    "            tx[\"vin_sz\"] = readVarInt()\n",
    "            tx[\"inputs\"] = readTxInputs(tx[\"vin_sz\"])\n",
    "            tx[\"vout_sz\"] = readVarInt()\n",
    "            tx[\"outputs\"] = readTxOutputs(tx[\"vout_sz\"])\n",
    "            tx[\"lock_time\"] = readInt()\n",
    "            outputs.append(tx)\n",
    "        return outputs\n",
    "\n",
    "    returnObj = {}\n",
    "\n",
    "    if printouts: print(\"===HEADER===\")\n",
    "\n",
    "    returnObj[\"ver\"] = readInt()\n",
    "    if printouts: print(\"ver: \", returnObj[\"ver\"])\n",
    "\n",
    "    returnObj[\"prev_block\"] = readHash().hex()\n",
    "    if printouts: print(\"prev_block: \", returnObj[\"prev_block\"])\n",
    "\n",
    "    returnObj[\"mrkl_root\"] = readHash().hex()\n",
    "    if printouts: print(\"mrkl_root: \", returnObj[\"mrkl_root\"])\n",
    "\n",
    "    returnObj[\"time\"] = readInt()\n",
    "    if printouts: print(\"time: \", returnObj[\"time\"])\n",
    "    \n",
    "    URL2 = \"https://min-api.cryptocompare.com/data/v2/histoday?fsym=BTC&tsym=USD&limit=1&aggregate=1&toTs=\" + str(returnObj[\"time\"])\n",
    "    r2 = requests.get(url=URL2).json()\n",
    "    #print(\"r2: \", r2)\n",
    "    returnObj[\"price\"] = r2[\"Data\"][\"Data\"][-1][\"close\"]\n",
    "#     returnObj[\"price\"] = json.loads(r2).get(\"close\")\n",
    "\n",
    "    returnObj[\"bits\"] = readInt()\n",
    "    if printouts: print(\"bits: \", returnObj[\"bits\"])\n",
    "\n",
    "    returnObj[\"nonce\"] = readInt()\n",
    "    if printouts: print(\"nonce: \", returnObj[\"nonce\"])\n",
    "\n",
    "    if printouts: print(\"===TRANSACTIONS===\")\n",
    "\n",
    "    returnObj[\"n_tx\"] = readVarInt()\n",
    "    if printouts: print(\"n_tx: \", returnObj[\"n_tx\"])\n",
    "\n",
    "    returnObj[\"tx\"] = readTx(returnObj[\"n_tx\"])\n",
    "    if printouts: print(\"tx: \", returnObj[\"tx\"])\n",
    "        \n",
    "    returnObjJson = json.dumps(returnObj)\n",
    "    if printouts: print(json.dumps(returnObj, indent=2, sort_keys=False))\n",
    "\n",
    "    return json.loads(returnObjJson)"
   ]
  },
  {
   "cell_type": "code",
   "execution_count": 8,
   "metadata": {},
   "outputs": [
    {
     "name": "stdout",
     "output_type": "stream",
     "text": [
      "1551416400000\n"
     ]
    }
   ],
   "source": [
    "def getUnixTimestampBetweenDates(start_y, start_m, start_d):\n",
    "  return str(int(datetime(start_y, start_m, start_d).timestamp() * 1000))"
   ]
  },
  {
   "cell_type": "code",
   "execution_count": 9,
   "metadata": {},
   "outputs": [],
   "source": [
    "def getBitcoinData(start_y, start_m, start_d):\n",
    "  \n",
    "  date = getUnixTimestampBetweenDates(start_y, start_m, start_d)\n",
    "\n",
    "  # key: unix time in millisecondm, value: (num_transaction, high, low, avg, block_height)\n",
    "  final_data = {}\n",
    "\n",
    "  # get block data for the day\n",
    "  api_url = f'https://blockchain.info/blocks/{date}?format=json'\n",
    "  response = requests.get(api_url)\n",
    "  blocks = response.json()\n",
    "  sampled_blocks = sample(blocks, 10)\n",
    "  num_transactions = 0\n",
    "  avg = 0\n",
    "\n",
    "  for block in tqdm(sampled_blocks):\n",
    "    # get data for each randomly sampled block\n",
    "    block_hash = block[\"hash\"]\n",
    "    result = readBlock(block_hash)\n",
    "    num_transactions += result[\"n_tx\"]\n",
    "    avg += result[\"price\"]\n",
    "  \n",
    "  avg /= 10\n",
    "  num_blocks = len(blocks)\n",
    "  num_transactions *= num_blocks // 10\n",
    "\n",
    "  data_seconds = str(int(date) // 1000)\n",
    "  URL2 = \"https://min-api.cryptocompare.com/data/v2/histoday?fsym=BTC&tsym=USD&limit=1&aggregate=1&toTs=\" + data_seconds\n",
    "  r2 = requests.get(url=URL2).json()\n",
    "  low = r2[\"Data\"][\"Data\"][-1][\"low\"]\n",
    "  high = r2[\"Data\"][\"Data\"][-1][\"high\"]\n",
    "  final_data[date] = (num_transactions, high, low, round(avg, 4), num_blocks)\n",
    "  \n",
    "  return final_data  "
   ]
  },
  {
   "cell_type": "code",
   "execution_count": 10,
   "metadata": {},
   "outputs": [],
   "source": [
    "def bitcoin_data_to_csv(start_y, start_m, start_d, csv_path):\n",
    "  bc_data = getBitcoinData(start_y, start_m, start_d)\n",
    "  df = pd.DataFrame.from_dict(bc_data, orient='index', columns=['n_tx', 'high', 'low', 'avg', \"height\"])\n",
    "  df.to_csv(csv_path)"
   ]
  },
  {
   "cell_type": "code",
   "execution_count": 22,
   "metadata": {},
   "outputs": [],
   "source": [
    "def gen_bitcoin_data_daily(start_y, start_m, start_d):\n",
    "  for m in range(start_m, 13):\n",
    "    for d in range(start_d, 31):\n",
    "      if m == 2 and d > 28:\n",
    "        # Feb\n",
    "        break\n",
    "      bitcoin_data_to_csv(start_y, m, d, f'data/{start_y}_{m}_{d}_bitcoin.csv')\n",
    "      print(f'{start_y}/{m}/{d} DONE.')\n",
    "\n"
   ]
  },
  {
   "cell_type": "code",
   "execution_count": 24,
   "metadata": {},
   "outputs": [
    {
     "name": "stderr",
     "output_type": "stream",
     "text": [
      " 30%|███       | 3/10 [00:07<00:17,  2.44s/it]"
     ]
    }
   ],
   "source": [
    "# Jeffrey runs this\n",
    "gen_bitcoin_data_daily(2019, 1, 1)"
   ]
  },
  {
   "cell_type": "code",
   "execution_count": null,
   "metadata": {},
   "outputs": [],
   "source": [
    "# Simon runs this\n",
    "gen_bitcoin_data_daily(2020, 1, 1)"
   ]
  },
  {
   "cell_type": "code",
   "execution_count": null,
   "metadata": {},
   "outputs": [],
   "source": [
    "# Lawrence runs this\n",
    "gen_bitcoin_data_daily(2021, 1, 1)"
   ]
  }
 ],
 "metadata": {
  "interpreter": {
   "hash": "e28ef200f3aa48991880ef7df14079ed17588257312e0c08befe142c25b1f614"
  },
  "kernelspec": {
   "display_name": "Python 3.9.7 ('base')",
   "language": "python",
   "name": "python3"
  },
  "language_info": {
   "codemirror_mode": {
    "name": "ipython",
    "version": 3
   },
   "file_extension": ".py",
   "mimetype": "text/x-python",
   "name": "python",
   "nbconvert_exporter": "python",
   "pygments_lexer": "ipython3",
   "version": "3.9.7"
  },
  "orig_nbformat": 4
 },
 "nbformat": 4,
 "nbformat_minor": 2
}
