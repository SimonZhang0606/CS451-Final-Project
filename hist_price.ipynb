{
 "cells": [
  {
   "cell_type": "code",
   "execution_count": 51,
   "metadata": {},
   "outputs": [],
   "source": [
    "import pandas as pd"
   ]
  },
  {
   "cell_type": "markdown",
   "metadata": {},
   "source": [
    "Historical bitcoin price data from 2012-01-01 to 2021-03-31 taken from kaggle"
   ]
  },
  {
   "cell_type": "code",
   "execution_count": 52,
   "metadata": {},
   "outputs": [],
   "source": [
    "df = pd.read_csv('Data/bitcoin_hist_price.csv')\n",
    "price_data = df.to_numpy()\n",
    "n = price_data.shape[0]"
   ]
  },
  {
   "cell_type": "code",
   "execution_count": 53,
   "metadata": {},
   "outputs": [],
   "source": [
    "# takes a timestamp which represents unit timestamp and outputs the bitcoin price\n",
    "# based on historical data\n",
    "def find_price(timestamp, data):\n",
    "  # use binary search. Take at most 23 to find the answer\n",
    "  left = 0\n",
    "  right = n - 1\n",
    "\n",
    "  timestamp = int(timestamp)\n",
    "\n",
    "  while left <= right:\n",
    "    mid = (left + right) // 2\n",
    "    mid_timestamp = int(data[mid][0])\n",
    "\n",
    "    if abs(timestamp - mid_timestamp) <= 60:\n",
    "      # within plus/minus one minute of mid_timestamp\n",
    "      return int(data[mid][4])\n",
    "    elif timestamp > mid_timestamp:\n",
    "      left = mid + 1\n",
    "    else:\n",
    "      right = mid - 1\n",
    "  \n",
    "  return 0 # used data after 2021-03-31 which this method will fail to predict\n",
    "\n"
   ]
  },
  {
   "cell_type": "code",
   "execution_count": 55,
   "metadata": {},
   "outputs": [
    {
     "data": {
      "text/plain": [
       "28929"
      ]
     },
     "execution_count": 55,
     "metadata": {},
     "output_type": "execute_result"
    }
   ],
   "source": [
    "find_price(1609442340, price_data)"
   ]
  }
 ],
 "metadata": {
  "interpreter": {
   "hash": "e28ef200f3aa48991880ef7df14079ed17588257312e0c08befe142c25b1f614"
  },
  "kernelspec": {
   "display_name": "Python 3.9.7 ('base')",
   "language": "python",
   "name": "python3"
  },
  "language_info": {
   "codemirror_mode": {
    "name": "ipython",
    "version": 3
   },
   "file_extension": ".py",
   "mimetype": "text/x-python",
   "name": "python",
   "nbconvert_exporter": "python",
   "pygments_lexer": "ipython3",
   "version": "3.9.7"
  },
  "orig_nbformat": 4
 },
 "nbformat": 4,
 "nbformat_minor": 2
}
